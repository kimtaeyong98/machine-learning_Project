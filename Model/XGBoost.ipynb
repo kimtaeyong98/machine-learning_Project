{
 "cells": [
  {
   "cell_type": "code",
   "execution_count": 4,
   "metadata": {},
   "outputs": [],
   "source": [
    "import os\n",
    "import pandas as pd\n",
    "import numpy as np\n",
    "import xgboost as xgb\n",
    "\n",
    "from xgboost.sklearn import XGBClassifier\n",
    "from sklearn.metrics import confusion_matrix, accuracy_score, precision_score, recall_score, f1_score, roc_auc_score\n",
    "\n",
    "from sklearn.model_selection import GridSearchCV   #Perforing grid search\n",
    "from sklearn.preprocessing import LabelEncoder\n",
    "\n",
    "from numpy import loadtxt\n",
    "#from xgboost import XGBClassifier\n",
    "from xgboost import plot_importance\n",
    "from matplotlib import pyplot\n",
    "\n",
    "import matplotlib.pylab as plt\n",
    "%matplotlib inline\n",
    "import warnings\n",
    "warnings.filterwarnings(action='ignore')\n"
   ]
  },
  {
   "cell_type": "code",
   "execution_count": 5,
   "metadata": {},
   "outputs": [],
   "source": [
    "raw_data = pd.read_csv('train.csv')\n",
    "raw_data.loc[raw_data['voted']==2, 'voted']=0\n",
    "Answers = ['QaA', 'QbA', 'QcA', 'QdA', 'QeA',\n",
    "             'QfA', 'QgA', 'QhA', 'QiA', 'QjA', \n",
    "             'QkA', 'QlA', 'QmA', 'QnA', 'QoA', \n",
    "             'QpA', 'QqA', 'QrA', 'QsA', 'QtA']\n",
    "\n",
    "flipping_columns = [\"QeA\", \"QfA\", \"QkA\", \"QqA\", \"QrA\"]\n",
    "for flip in flipping_columns: \n",
    "    raw_data[flip] = 6 - raw_data[flip]\n",
    "\n",
    "flipping_secret_columns = [\"QaA\", \"QdA\", \"QgA\", \"QiA\", \"QnA\"]\n",
    "for flip in flipping_secret_columns: \n",
    "    raw_data[flip] = 6 - raw_data[flip]\n",
    "\n",
    "raw_data['Mach_score'] = raw_data[Answers].sum(axis = 1)\n",
    "raw_data.drop(['index'], axis=1, inplace=True)\n",
    "data = raw_data.copy()\n"
   ]
  },
  {
   "cell_type": "code",
   "execution_count": 6,
   "metadata": {},
   "outputs": [
    {
     "data": {
      "text/plain": [
       "(43795, 78)"
      ]
     },
     "execution_count": 6,
     "metadata": {},
     "output_type": "execute_result"
    }
   ],
   "source": [
    "index1 = data.loc[data['familysize'] >= 50].index \n",
    "data1 = data.drop(index1, axis=0)                        # 50명이상 삭제\n",
    "\n",
    "data2 = data.copy()\n",
    "data2.loc[data2['familysize'] >= 5, 'familysize'] = 5    # 5명이상은 5명이상 범주로\n",
    "\n",
    "data3 = data.copy()\n",
    "data3.loc[data3['familysize'] >= 10, 'familysize'] = 10  # 10명이상은 10명이상 범주로\n",
    "\n",
    "index2 = data.loc[data['familysize'] >= 10].index\n",
    "data4 = data.drop(index2, axis=0)                        # 10명이상 삭제\n",
    "\n",
    "index3 = data.loc[data['familysize'] >= 6].index\n",
    "data5 = data.drop(index3, axis=0)                        # 6명이상 삭제\n",
    "\n",
    "#data_list = [data, data1, data2, data3, data4, data5]\n",
    "data = data5\n",
    "data.shape"
   ]
  },
  {
   "cell_type": "markdown",
   "metadata": {},
   "source": [
    "아래는 최종 중요 변수별 투표 여부 파악  +  투표/미투표 비율 높은 그룹에 대한 히스토그램 시각화\n"
   ]
  },
  {
   "cell_type": "code",
   "execution_count": 8,
   "metadata": {},
   "outputs": [],
   "source": [
    "index1 = data.loc[ (data['age_group'] == '20s') & (data['Mach_score'] >= 70)\n",
    " & (data['education'] == 1) & ( (data['religion'] == 'Atheist') | (data['religion'] == 'Muslim') )].index\n",
    "\n",
    "index2 = data.loc[ (data['age_group'] == '60s') & (data['Mach_score'] < 50)\n",
    " & (data['education'] == 4) & (data['religion'] == 'Christian_Protestant')].index\n",
    "\n",
    "group1 = data.loc[index1, :]\n",
    "group2 = data.loc[index2, :]\n"
   ]
  },
  {
   "cell_type": "code",
   "execution_count": 9,
   "metadata": {},
   "outputs": [
    {
     "data": {
      "text/plain": [
       "<matplotlib.legend.Legend at 0x26480344a30>"
      ]
     },
     "execution_count": 9,
     "metadata": {},
     "output_type": "execute_result"
    },
    {
     "data": {
      "image/png": "[encoded data removed]",
      "text/plain": [
       "<Figure size 432x288 with 1 Axes>"
      ]
     },
     "metadata": {
      "needs_background": "light"
     },
     "output_type": "display_data"
    }
   ],
   "source": [
    "plt.hist( group1.loc[ group1['voted'] == 1]['voted'], label='voted', bins=1)\n",
    "plt.hist( group1.loc[ group1['voted'] == 0]['voted'], label='not voted', bins=1)\n",
    "plt.legend()"
   ]
  },
  {
   "cell_type": "code",
   "execution_count": 10,
   "metadata": {},
   "outputs": [
    {
     "data": {
      "text/plain": [
       "<matplotlib.legend.Legend at 0x264806fcbb0>"
      ]
     },
     "execution_count": 10,
     "metadata": {},
     "output_type": "execute_result"
    },
    {
     "data": {
      "image/png": "[encoded data removed]",
      "text/plain": [
       "<Figure size 432x288 with 1 Axes>"
      ]
     },
     "metadata": {
      "needs_background": "light"
     },
     "output_type": "display_data"
    }
   ],
   "source": [
    "plt.hist( group2.loc[ group2['voted'] == 1]['voted'], label='voted', bins=1)\n",
    "plt.hist( group2.loc[ group2['voted'] == 0]['voted'], label='not voted', bins=1)\n",
    "plt.legend()"
   ]
  },
  {
   "cell_type": "markdown",
   "metadata": {},
   "source": [
    "아래부터는 인코딩 및 모델링"
   ]
  },
  {
   "cell_type": "code",
   "execution_count": 11,
   "metadata": {},
   "outputs": [],
   "source": [
    "cate_features = ['age_group', 'education', 'engnat', 'hand', 'married', 'race', 'urban', 'religion', 'familysize']\n",
    "cate_features2 = ['tp01', 'tp02', 'tp03', 'tp04', 'tp05','tp06', 'tp07', 'tp08', 'tp09', 'tp10', 'wf_01','wf_02', 'wf_03', \n",
    "                'wr_01', 'wr_02', 'wr_03', 'wr_04', 'wr_05', 'wr_06','wr_07', 'wr_08', 'wr_09', 'wr_10', 'wr_11', 'wr_12', 'wr_13']\n",
    "\n",
    "for c in cate_features:\n",
    "    target_encode=data.groupby(c)['voted'].mean()\n",
    "    data[c]=data[c].map(target_encode)\n",
    "\n",
    "#for c in cate_features2:\n",
    "#    target_encode=data.groupby(c)['voted'].mean()\n",
    "#    data[c]=data[c].map(target_encode)\n",
    "\n",
    "\n",
    "label_encoder = LabelEncoder()\n",
    "data['gender'] = label_encoder.fit_transform(data['gender'])\n",
    "\n",
    "train = data.drop('voted', axis=1)\n",
    "drop_list = ['QaE', 'QbE', 'QcE', 'QdE', 'QeE',\n",
    "             'QfE', 'QgE', 'QhE', 'QiE', 'QjE',\n",
    "             'QkE', 'QlE', 'QmE', 'QnE', 'QoE',\n",
    "             'QpE', 'QqE', 'QrE', 'QsE', 'QtE']\n",
    "d2 = ['QaA', 'QbA', 'QcA', 'QdA', 'QeA', 'QfA', 'QgA', 'QhA', 'QiA', 'QjA',\n",
    "       'QkA', 'QlA', 'QmA', 'QnA', 'QoA', 'QpA', 'QqA', 'QrA', 'QsA', 'QtA']\n",
    "\n",
    "train = train.drop(drop_list, axis=1)\n",
    "train = train.drop(d2, axis=1)\n",
    "\n",
    "\n",
    "target = data['voted']"
   ]
  },
  {
   "cell_type": "code",
   "execution_count": 12,
   "metadata": {},
   "outputs": [
    {
     "name": "stdout",
     "output_type": "stream",
     "text": [
      "(32846, 37) (10949, 37)\n"
     ]
    }
   ],
   "source": [
    "from sklearn.model_selection import train_test_split\n",
    "\n",
    "x_train, x_test, y_train, y_test = train_test_split(train, target, test_size=0.25, random_state=42, stratify=target)\n",
    "print(x_train.shape, x_test.shape)"
   ]
  },
  {
   "cell_type": "code",
   "execution_count": 13,
   "metadata": {},
   "outputs": [
    {
     "name": "stdout",
     "output_type": "stream",
     "text": [
      "[16:20:38] WARNING: ..\\src\\learner.cc:1115: Starting in XGBoost 1.3.0, the default evaluation metric used with the objective 'binary:logistic' was changed from 'error' to 'logloss'. Explicitly set eval_metric if you'd like to restore the old behavior.\n"
     ]
    },
    {
     "data": {
      "text/plain": [
       "XGBClassifier(base_score=0.5, booster='gbtree', colsample_bylevel=1,\n",
       "              colsample_bynode=1, colsample_bytree=0.7,\n",
       "              enable_categorical=False, gamma=0.1, gpu_id=-1,\n",
       "              importance_type=None, interaction_constraints='',\n",
       "              learning_rate=0.005, max_delta_step=0, max_depth=6,\n",
       "              min_child_weight=15, missing=nan, monotone_constraints='()',\n",
       "              n_estimators=100, n_jobs=12, nthread=-1, num_parallel_tree=1,\n",
       "              predictor='auto', random_state=2019, reg_alpha=0, reg_lambda=1,\n",
       "              scale_pos_weight=1, seed=2019, subsample=0.7, tree_method='exact',\n",
       "              validate_parameters=1, verbosity=None)"
      ]
     },
     "execution_count": 13,
     "metadata": {},
     "output_type": "execute_result"
    }
   ],
   "source": [
    "\n",
    "# plot feature importance manually\n",
    "\n",
    "\n",
    "\n",
    "\n",
    "def get_xgb_imp(xgb, feat_names):\n",
    "    from numpy import array\n",
    "    imp_vals = xgb.booster().get_fscore()\n",
    "    imp_dict = {feat_names[i]:float(imp_vals.get('f'+str(i),0.)) for i in range(len(feat_names))}\n",
    "    total = array(imp_dict.values()).sum()\n",
    "    return {k:v/total for k,v in imp_dict.items()}\n",
    "\n",
    "model = XGBClassifier(    \n",
    "    learning_rate =0.005,\n",
    "    max_depth=6,\n",
    "    min_child_weight=15,\n",
    "    gamma=0.10,\n",
    "    subsample=0.7,\n",
    "    colsample_bytree=0.7,\n",
    "    objective= 'binary:logistic',\n",
    "    nthread=-1,\n",
    "    scale_pos_weight=1,\n",
    "    seed=2019)\n",
    "model.fit(x_train, y_train)"
   ]
  },
  {
   "cell_type": "code",
   "execution_count": 14,
   "metadata": {},
   "outputs": [
    {
     "name": "stdout",
     "output_type": "stream",
     "text": [
      "[XGBOOST]\n",
      "오차행렬:\n",
      " [[4035 1964]\n",
      " [1298 3652]]\n",
      "\n",
      "정확도: 0.7021\n",
      "정밀도: 0.6503\n",
      "재현율: 0.7378\n",
      "F1: 0.6913\n",
      "AUC: 0.7052\n"
     ]
    }
   ],
   "source": [
    "\n",
    "def get_clf_eval(y_test, y_pred):\n",
    "    print(\"[XGBOOST]\")\n",
    "    confusion = confusion_matrix(y_test, y_pred)\n",
    "    accuracy = accuracy_score(y_test, y_pred)\n",
    "    precision = precision_score(y_test, y_pred)\n",
    "    recall = recall_score(y_test, y_pred)\n",
    "    F1 = f1_score(y_test, y_pred)\n",
    "    AUC = roc_auc_score(y_test, y_pred)\n",
    "    print('오차행렬:\\n', confusion)\n",
    "    print('\\n정확도: {:.4f}'.format(accuracy))\n",
    "    print('정밀도: {:.4f}'.format(precision))\n",
    "    print('재현율: {:.4f}'.format(recall))\n",
    "    print('F1: {:.4f}'.format(F1))\n",
    "    print('AUC: {:.4f}'.format(AUC))\n",
    "\n",
    "pred = model.predict(x_test)\n",
    "#print(pred)\n",
    "get_clf_eval(y_test, pred)"
   ]
  },
  {
   "cell_type": "code",
   "execution_count": 15,
   "metadata": {},
   "outputs": [
    {
     "data": {
      "image/png": "[encoded data removed]",
      "text/plain": [
       "<Figure size 1440x720 with 1 Axes>"
      ]
     },
     "metadata": {
      "needs_background": "light"
     },
     "output_type": "display_data"
    }
   ],
   "source": [
    "#print(model.feature_importances_)\n",
    "\n",
    "ax = plot_importance(model)\n",
    "fig = ax.figure\n",
    "fig.set_size_inches(20, 10)\n"
   ]
  },
  {
   "cell_type": "markdown",
   "metadata": {},
   "source": [
    "아래는 XGB 하이퍼 파라미터 튜닝\n",
    "\n",
    "\n",
    "그리드 서치 + 런타임 너무 긴 이슈로 몇가지 하이퍼파라미터는 수동으로 나눠서 테스트"
   ]
  },
  {
   "cell_type": "code",
   "execution_count": null,
   "metadata": {},
   "outputs": [],
   "source": [
    "target = 'voted'\n",
    "IDcol = 'Unnamed: 0'\n",
    "\n",
    "\n",
    "predictors = [x for x in data.columns if x not in [target, IDcol]]\n",
    "data.loc[data['voted']==2, 'voted']=0"
   ]
  },
  {
   "cell_type": "code",
   "execution_count": null,
   "metadata": {},
   "outputs": [],
   "source": [
    "param_test1 = {                     #하이퍼 파라미터가 너무 많아 실제로는 나눠서 진행\n",
    " 'max_depth':range(6,10,1),        \n",
    " 'min_child_weight':range(0,30,3),\n",
    " 'gamma':[i/10.0 for i in range(0, 15, 1)],                \n",
    " 'subsample':[i/10.0 for i in range(7,9)],             \n",
    " 'colsample_bytree':[i/10.0 for i in range(7, 9)],     \n",
    " 'reg_alpha':[1e-2, 0.1, 1]\n",
    "}\n",
    "\n",
    "gsearch1 = GridSearchCV(estimator = XGBClassifier(learning_rate =0.005, \n",
    "                                                  n_estimators=1000, \n",
    "                                                  max_depth=6,         \n",
    "                                                  min_child_weight=50,  \n",
    "                                                  gamma=0, \n",
    "                                                  subsample=0.7, \n",
    "                                                  colsample_bytree=0.7,\n",
    "                                                  reg_alpha = 0.1, \n",
    "                                                  objective= 'binary:logistic', \n",
    "                                                  thread=-1, \n",
    "                                                  scale_pos_weight=1,\n",
    "                                                  eval_metric = 'error',\n",
    "                                                  seed=2019), \n",
    "                        param_grid = param_test1, scoring='accuracy', n_jobs=-1, cv=5, verbose=10)\n",
    "gsearch1.fit(data[predictors],data[target])\n",
    "gsearch1.cv_results_, gsearch1.best_params_, gsearch1.best_score_\n",
    "\n"
   ]
  },
  {
   "cell_type": "code",
   "execution_count": null,
   "metadata": {},
   "outputs": [],
   "source": []
  }
 ],
 "metadata": {
  "interpreter": {
   "hash": "3788f4bc251499c6ba4df39cde4e5887e16b3b5cce96fe327093ca4781de6168"
  },
  "kernelspec": {
   "display_name": "Python 3.8.12 ('pytorch')",
   "language": "python",
   "name": "python3"
  },
  "language_info": {
   "codemirror_mode": {
    "name": "ipython",
    "version": 3
   },
   "file_extension": ".py",
   "mimetype": "text/x-python",
   "name": "python",
   "nbconvert_exporter": "python",
   "pygments_lexer": "ipython3",
   "version": "3.8.12"
  },
  "orig_nbformat": 4
 },
 "nbformat": 4,
 "nbformat_minor": 2
}
